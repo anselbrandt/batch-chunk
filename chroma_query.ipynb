{
 "cells": [
  {
   "cell_type": "code",
   "execution_count": 100,
   "metadata": {},
   "outputs": [],
   "source": [
    "# pip install chromadb tiktoken sentence-transformers ipykernel ipywidgets\n",
    "import json\n",
    "import chromadb\n",
    "from chromadb.utils import embedding_functions\n",
    "import platform\n",
    "from sentence_transformers import SentenceTransformer\n",
    "\n",
    "model = SentenceTransformer(\"all-mpnet-base-v2\")\n",
    "\n",
    "platform.platform()\n",
    "\n",
    "path = (\n",
    "    \"/Users/ansel/chromadb\"\n",
    "    if \"macOS\" in platform.platform()\n",
    "    else \"/home/ansel/chromadb\"\n",
    ")\n",
    "\n",
    "chroma_client = chromadb.PersistentClient(path=path)\n",
    "sentence_transformer_ef = embedding_functions.SentenceTransformerEmbeddingFunction(\n",
    "    model_name=\"all-mpnet-base-v2\"\n",
    ")\n",
    "\n",
    "collection = chroma_client.get_collection(\n",
    "    name=\"roderick\", embedding_function=sentence_transformer_ef\n",
    ")"
   ]
  },
  {
   "cell_type": "code",
   "execution_count": 101,
   "metadata": {},
   "outputs": [],
   "source": [
    "raw_results = collection.query(\n",
    "    query_texts=[\"What does John Roderick think about donuts?\"],\n",
    "    n_results=30,\n",
    "    include=[\"documents\", \"metadatas\"],\n",
    ")\n",
    "\n",
    "results = list(zip(raw_results[\"metadatas\"][0], raw_results[\"documents\"][0]))"
   ]
  },
  {
   "cell_type": "code",
   "execution_count": 102,
   "metadata": {},
   "outputs": [],
   "source": [
    "metas = [json.loads(metadatas[\"wavfiles\"]) for metadatas, text in results]\n",
    "john_lines = [line for chunk in metas for line in chunk if line[\"speaker\"] == \"John\"]\n",
    "\n",
    "donut = model.encode(\"donut\")\n",
    "\n",
    "\n",
    "def similarity(emb, string):\n",
    "    embedding = model.encode(string)\n",
    "    return float(model.similarity(emb, embedding))\n",
    "\n",
    "\n",
    "filtered = [line for line in john_lines if similarity(donut, line[\"speech\"]) > 0.4]\n",
    "\n",
    "filteredToJson = [\n",
    "    {\n",
    "        \"file\": \"/audio/\" + line[\"wavfile\"].replace(\".wav\", \".mp3\"),\n",
    "        \"text\": line[\"speech\"],\n",
    "    }\n",
    "    for line in filtered\n",
    "]\n",
    "\n",
    "f = open(\"data.json\", \"w\")\n",
    "f.write(json.dumps(filteredToJson))\n",
    "f.close()"
   ]
  }
 ],
 "metadata": {
  "kernelspec": {
   "display_name": "chunking",
   "language": "python",
   "name": "python3"
  },
  "language_info": {
   "codemirror_mode": {
    "name": "ipython",
    "version": 3
   },
   "file_extension": ".py",
   "mimetype": "text/x-python",
   "name": "python",
   "nbconvert_exporter": "python",
   "pygments_lexer": "ipython3",
   "version": "3.12.7"
  }
 },
 "nbformat": 4,
 "nbformat_minor": 2
}
