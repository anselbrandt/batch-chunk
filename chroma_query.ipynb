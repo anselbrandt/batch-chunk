{
 "cells": [
  {
   "cell_type": "code",
   "execution_count": 1,
   "metadata": {},
   "outputs": [],
   "source": [
    "# pip install chromadb tiktoken sentence-transformers ipykernel ipywidgets\n",
    "import chromadb\n",
    "from chromadb.utils import embedding_functions\n",
    "import platform\n",
    "\n",
    "platform.platform()\n",
    "\n",
    "path = (\n",
    "    \"/Users/ansel/chromadb\"\n",
    "    if \"macOS\" in platform.platform()\n",
    "    else \"/home/ansel/chromadb\"\n",
    ")\n",
    "\n",
    "chroma_client = chromadb.PersistentClient(path=path)\n",
    "sentence_transformer_ef = embedding_functions.SentenceTransformerEmbeddingFunction(\n",
    "    model_name=\"all-mpnet-base-v2\"\n",
    ")\n",
    "\n",
    "collection = chroma_client.get_collection(\n",
    "    name=\"roderick\", embedding_function=sentence_transformer_ef\n",
    ")"
   ]
  },
  {
   "cell_type": "code",
   "execution_count": 2,
   "metadata": {},
   "outputs": [],
   "source": [
    "raw_results = collection.query(\n",
    "    query_texts=[\"What does John Roderick think about donuts?\"],\n",
    "    n_results=30,\n",
    "    include=[\"documents\", \"metadatas\"],\n",
    ")\n",
    "\n",
    "results = list(zip(raw_results[\"metadatas\"][0], raw_results[\"documents\"][0]))"
   ]
  },
  {
   "cell_type": "code",
   "execution_count": 7,
   "metadata": {},
   "outputs": [
    {
     "data": {
      "text/plain": [
       "[\"I want to hear about the bit about the donuts. John, the setup for the bit was I asked you, because you were obviously eating at least one donut that I could hear, and I was asking you, do you have a kind of donut you like? Now, here's the thing. You ask most people about donuts. And they're going to say, I think if they're the kind of person who eats donuts, they're going to say something pretty similar to what you did without much. prompting which is yeah i got a couple strong feelings about donuts. i like this kind of donut almost to the exclusion of others and i super don't like these two three four kinds of donuts like. i don't like surprise donuts. i don't like joke donuts. i don't like the kind of shit where my wife buys food that doesn't have food in it like. she buys like oh it's it's try these new chicory snaps and i'm like what.\",\n",
       " \"So, as you know, Voodoo donuts in Portland for a while, for the first five or six years they were open, people, every time you went to Portland, you couldn't escape them. They'd shoot twelve donuts at you. Everybody you see downtown carrying this comically pink box, you're going to get it back to the hotel room and eat. Twelve of these six thousand calorie Captain Crunch donuts.\",\n",
       " 'Yeah. Right. Right. His whole take is. And but but I hear from other people. Oh, John Worcester was saying this and that about you. And John Worcester, blah, blah, blah. Made sure that made sure that you did. Made sure that the last donut got thrown in the toilet. Like I did.',\n",
       " \"and john worcester and i don't like each other and he is has made it plain over the years that if he has the opportunity to take the last donut and throw it in the toilet rather than i have it Mm-hmm. He'll take that opportunity. Now, he's very good. He's been at this a lot longer than I have. This is John Worcester of your favorite band of all time, Superchunk.\",\n",
       " \"That's a Creole dish. That'll get stuck right in your bear crawl. Guarantee. No, I don't want it. I don't want any of those. I love that. you know what you like and you, by extension, I suppose, know within reason what you don't like. You like trying new things, but donuts, you know. Okay, look, I'm already going to contravene my bit. Yeah, go ahead. Well, in life, it helps. It's nice to try stuff. And John, I think one thing our listeners know about you is you do like to try stuff. I do. But you do know what you like. You might try some kind of a brand of automobile. Automobile? Just to see what it's like. But you know you like a big truck that mostly doesn't work and has electrical problems. You know that's your, what was that, your bailiwick, your wheelhouse, your car. A hundred percent. All of those things. It's the wheelhouse of my bailiwick. But. It feels like, as soon as I take a bite of it, it feels like I want to be a copper of firemen, and I don't want to be a copper of firemen. No. I want those mushy, mushy things. They're too doughy. They're too bready. They're bleh. I want a cake is what I want. What about my bits, then?\",\n",
       " \"Hmm. I don't want a normal donut. When, when, uh, when they open those crusty creams, crazy, crazy creams, crispy creams. When they, they, they opened a crisp, crispy cream, crispy cream. Yeah. They opened one out here in Seattle about ten years ago and it was that. Predictable frenzy where there were lines around the block. Everybody wanted a Krispy Kreme. And I had absolutely no interest in a Krispy Kreme. Zero interest. Because I don't want to hear the word cream when we're talking about a donut. In the same way, I don't want sprinkles. I want a cake donut with frosting and sparkles. If my donut is not cake, if it's bread, I won't eat it. If it's a cake donut without frosting, I can't imagine why you would make it. And if it's a cake donut with frosting but no sparkles, it's like a fluffernutter with no peanut butter.\",\n",
       " \"Oh, you think of Pete Townsend. Pete Townsend, right? You say Roland. I think of Adrian Ballou. Who very quickly played a solid state amp with the way that he plays guitar, which is fucking insane. I think of Andy Summers when you say Roland. Oh, I can see that. They had a really nice warm chorus on it. So I think if you ask people about donuts, like if we do to do, like we've gone out and gotten food together. We've eaten more. dim sum than most of you have had hot meals. Like, you get food, and you say to somebody, or like I say to my fucking family, like, what do you want for dinner? Like, what do you want for dinner? Like, if I could, I would just order what I feel like all the time and just listen to you people whine about it. Nobody wants to participate in that part of the meal. But sometimes I'll say, what would you like for dinner tonight? Or maybe ambitiously I'll say, what would you like? And sometimes people have a feeling about that, especially people who are hungry. Here's the thing about donuts. You ask most people, do you have a preference for a donut? And do you have a feeling about the donuts you don't prefer? And I think almost everybody, with any fucking sense, you say that to me, and I'm going to say, yeah, I really like, if it's very fresh, I like a glazed donut. Even if it's not that fresh.\",\n",
       " \"Asked me how many BMs I had a day. Is that his opening line? Pretty much. John, they learn what really works. We were at the fish bar, which is a bar shaped like a fish. You walk in the mouth of the giant fish. I'm sure I've told you this story. All right.\",\n",
       " \"Really? Well, I had a chocolate donut. A chocolate all the way through or a frosted glazed? I don't like donuts. I like cake donuts. You like old-fashioned cake donuts. Cake donuts. It's the only kind I like. I'll be hornswoggled. I like, my daughter and I both like the glazed with the frosting on top. I also like, you got to be careful when you go to Dunkin' Donuts. I've eaten the booger on this one a few times. Uh-oh. You say you want a glazed, chocolate glazed, and they'll give you another one that I like, which is a very cakey, all-chocolate donut with a real jizzy sugar coating on it.\",\n",
       " \"Oh, the way that he eats ice cream? Yeah, how does he eat ice cream? He eats cream in centimeters, I think. Somehow he has a built-in barometer for how he eats ice cream that is as organized and well thought out as the rest of his life. I see, I see. John, when I open the ice cream, I've decided to stop living a lie. So when I open the pint of ice cream, I literally throw the lid in the trash.\",\n",
       " \"Hi, this is John Roderick. That's chilling. I don't like that. He's like a clown with a van. I lost my puppy. I got a necklace I can give you if you get in the van and help me come find my puppy. I'm a happy clown. Hi. You ever listen to that one song, Exploder, everybody pass it in? That was my song about the astronauts and whatnot. They break down the tracks, get in my van.\",\n",
       " \"He's a big part of the Dutch culture. Oh, yeah, yeah, yeah, yeah. He had to change his name at Ellis Island. That's stupid. But you know what? Also what I do now, I do a very Roderick-ish thing a lot of days, especially if I'm going to do some morning puttering at the house. And so I'm really into those. I like beakers and flasks. I just like the way that they look.\",\n",
       " \"Things are good. I had a stale donut. She called it. I don't love that man. I'm only going to give him a stale donut. I got sugar. And lard, but without the sweet softness of a fresh donut. I got it.\",\n",
       " \"Well, and the funny thing is that's one of the ones I think he redrew in the sixties. He should have known better by then. Yeah. So thank you for sending me an extremely racist postcard that I, mailman, think I'm racist. It's, you know, Belgium doesn't have the greatest colonial history. We almost got through here without just randomly ripping on some European country for no reason. Damn you, Belgium. So we have Belgium and Bandon represented in the postcard. Welcome to Old Town Bandon. And an OR. So yeah, why not? Send us postcards of your journeys. We obviously care. We could have ended this show already, but for some reason we're talking about Belgian racism. That's right. This show could have been one of the rare ones that actually came in under an hour. Oh, were we close? Yeah. Oh, we were doing great until we got to the mailbag. Ooh. But, you know, this is the kind of fan service that, well, what's this bag right here? I'm not opening that one yet. That's for the next show. Oh. Oh, all right. Delayed gratification. John's a one marshmallow child. Crinkle, crinkle. No, that's not true. If you hang a banana from the roof, I'm going to figure out to use the chair.\",\n",
       " \"Go to Blue Star Donuts. We prefer your. Thank you. We know where the good donuts are at. But, you know, the one the one donut I liked there was the peach fritter because it's kind of a cinnamon tasting thing. And it had like an inch of cream cheese on top. Cream cheese frosting on top. And who doesn't like that? And they got rid of it. They got rid of the one donut I liked. But this weekend for one weekend only, I saw on their social media, it was like we're bringing back our most requested donut.\",\n",
       " \"Jeff is a drink-making professional person. Whereas you are just a ding-a-ling with a loaf of bread and some candy corn. Now listen, hold on a second. I didn't invent the fluffernutter. This is a generation's old tradition of the great northeast of this country. Yeah, well, you didn't invent the peanut butter and banana sandwich. Peanut butter, bacon, and banana sandwich. I haven't tried one of those either. You're not insane.\",\n",
       " \"I do. I do. I've never had one donut of anything. Title. Okay. What's your favorite donut? I like a cake donut. You're a traditionalist. I like a cake donut. I like it with frosting. And I like the frosting to have sparkles. Yep. Yeah. A lot of people will call sparkles a sprinkle. But I think a sprinkle, it's just describing what you did. It's not describing.\",\n",
       " \"But you're fat in raisins. Yeah, because we don't live in Bob Cratchit's house. It's a little chilly in here sometimes, but it's not Cratchit cold. No. I like fruitcake. How do you like Fruitcake? I don't like it when Fruitcake is used as a hacky Christmas joke. Every once in a while you say something that just is so... Out of the Ken Jennings. Do you think I'm trolling clicks? If I was working for the Chicago Tribune and I had a style manual that just was devoted to Ken Jennings, it would say loves fruitcake. I think too many people are against fruitcake just because of. It's terrible. No, it's fine. It's terrible. It's fine. It's got those little jelly. If you were just eating candied fruits, you wouldn't be like candy.\",\n",
       " \"Open letter to Roderick on the line. Alas. I don't want to take you off your story, but I just would like you to at least acknowledge two images I've sent to you. The Jackie Stewart picture is very good. There is, John. He's in front of his little Formula One car there. Hang on. That's the highest quality image I can find. John, that's a model. No, really? That's what Cousin Davey made.\",\n",
       " \"Well, just to catch you up on the, I think at this point, twelve, thirteen years of podcasts, all you need to know about him is he's never been wrong. Well, and that's the thing, but he's not using it as prose, right? He's not waxing lyrical. No, no, no. No, and you see this, a bit that's been running on our show for five years, I would interrupt you except to say, when I say, John says, well, like I said, like they say about, he did one three months ago where he goes, you know, blah, blah, blah, blah, blah, blah, blah. And he's speaking in shorthand, like we all do, like you and I do, like all the time. And he goes, you know, it's like the monkey in the hose. And I go, monkey in the who? I said, did you just say monkey in the hose? Because that sounds like a square dance move. And he's like, bow to your partner, bow to your center. No, but monkey, and he goes, and then, but he does this thing where anecdotes, including jokes. He tells in bullet points. Like, one of my all-time favorite jokes, which is also an insight about life, is about the, let's just say it's a drunk guy on a bridge, and he's down on his hands and knees, and he's trying to find his car keys. A cop sees him and says, what are you doing?\",\n",
       " \"He came out. Oh, did the eggs. You didn't like the way he made the eggs. He made the eggs wrong. And I crossed my arms and said, no way. Because I like my eggs sunny side up. You don't say that to David Roderick. And he made scrambled eggs. And I was like, no way am I eating those weird eggs. And he was like, oh, you're going to eat these eggs. And we had a battle royale that involved everybody in the family and everybody in the neighborhood about the freaking scrambled eggs. So he and I would have showdowns like that over chow mein. We would have showdowns like that over. Just a lot of things.\",\n",
       " \"Oh, I know that one. I know that one. You ever have the jizz donut? Oh, for sure, for sure. Yeah, that's a good-ass donut. It's a good donut. I'm trying. Go ahead. Well, typically, you know, somebody will say like, oh, I'm going to bring some donuts. And I say, you know, make sure you get lots of cake donuts. And they're like, yeah, sure. Or whatever. They give me some donut dude.\",\n",
       " \"He describes me as a tall man with long copper hair. I did have long hair. Copper? It may even in a certain light have seemed copper. I mean, when it's long, it doesn't get reddish, but it's hard to tell what color my hair is. Right. Sure. A tall man with long copper hair, a bushy beard, a missing front tooth, and a resonant voice that could easily be heard anywhere in the hall without amplification. I love that. See, that's all complimentary. Yeah. In his banter with comedians and writers of all ages, Roderick was funny and generous. Well, this is nice. I don't think I've ever read this. How nice that Sasha Jones thought I was funny and generous. Oh, so it's a nice like. So anyway, this is the type of thing where if I allow myself to go to these things, I can get lost in them. Right. I mean, I was just reading that article. I was like, oh, that's nice. And I don't know whether. I don't know whether she also has things in here. They're like, I don't like this band, but she does have articles in Dutch. If anyone listening speaks Dutch, because she is from the Netherlands, she also included Dutch stuff.\",\n",
       " \"a young John Roderick is a mere year and a half old. Yeah, a year and a half, year two, two, let's say. I would have turned, well, yeah, I would have turned two in the fall of nineteen seventy. Would have been, you know, riding my trike. It was pre-Big Wheel, so I would have had a trike. I have a picture of the trike, actually. I had a little red trike. It's totemic for me to imagine it. Yeah, I think mine was orange because, you know, my parents were iconoclasts. I wouldn't want to stand out in the snow there.\",\n",
       " \"I think he's Hollandaise. Oh. Am I getting the Vander Roe part right? The thing is, it doesn't matter, John. It doesn't matter. All you've got to have is a bunch of those books. Those books could be made out of styrofoam. Nobody cares. Mies. Should we check into that? Yeah. Would you look that up? Mies? Yeah, well, no. I mean, there's no book in my house that... I mean, there are books in my house that haven't been read, but there are no books that are just here for display purposes. They're all on the list of books to be read. Some of these books... This is the depressing thing. Some books in my house I will never read.\",\n",
       " \"if time I want to eat food when I'm doing a show. I don't care. But there's this donut over here. Yeah. Well, so what I had was, okay, let's talk more about Matthew. No, let's go into the bit. We have it all the time in the world. I'll come back to it, but let's talk more about Matthew Cousins. I just want to talk about, like, I know you're not a fan, but I really like music. And I think Not A Surf is really neat. And I really, so.\",\n",
       " \"They've been such good friends to the show. Squarespace.com slash supertrain. Our thanks to Squarespace for supporting Roderick Online. And all the great shows. That's right. Mickey Mouse gloves on. You're apparently Ernest Borgnine in Escape from New York. I got my spatulas. Yep, yep. And then it's like, all right, bring out all the food that needs to get cooked. Let's cook it all. Let's get the food cooked. Cook it all at once. And then you've got all the, then you've got, and the thing is, cooked food is easy to deal with. You put it into the little snap-type thing. You put it in the fridge. You put it in the freezer. John, you love leftovers. I love them. You know, lately, because I'm splitting my time now between two and six houses.\",\n",
       " \"It's early. It is. You know, I had a donut already. I had a bagel. I don't usually. I don't usually. You know, I like cake donuts. Oh, interesting. Oh, boy, you must be in your corn because nobody ever wants the cake donut.\",\n",
       " \"He's got Bigfoot in his veins, and he has connections to both of us, by the way. Like me, his great-great-grandfather was kicked out of Nauvoo in June of eighteen forty-four. Interesting. He has Mormon polygamists in his family tree. And here's a story for you, and I'm not clear on how this works, but you tell me. John, remember when the Long Winters played the Doug Fir in Portland? Many times. I don't know which time. Multiple times. But you're with him so far. Okay. And you started noodling some Judas Priest. Do you remember that? Sure. Multiple times, probably.\",\n",
       " \"And I'm not sure how aware he was that Dr. Beaumont looked at the bread and bacon spilling out of this guy's hole and immediately saw, if you'll pardon the expression, his meal ticket. That's terrible. That's an example of one of the things that you say that then people write us and say, Ken is so funny. And I go, yeah, he's okay. He's funny, I guess. Yeah, just so you know, if anyone ever contacts us across the millennia to say that I'm the funny one, it just ruins John's intrigue. All day long, the bread and bacon just spills out of me. Rage. Look at all the smashed guitars on the floor of this room. You just throw these puns out all day long, and I just feel like you're the... Is that really a pun? No, but that's typical of you. I was just going to say it was his meal ticket, and then I realized he was literally looking at the dude's meal. Yeah. No, I got the joke. It's not my fault, though.\"]"
      ]
     },
     "execution_count": 7,
     "metadata": {},
     "output_type": "execute_result"
    }
   ],
   "source": [
    "text_results = [text for metadatas, text in results]\n",
    "\n",
    "text_results"
   ]
  }
 ],
 "metadata": {
  "kernelspec": {
   "display_name": "chunking",
   "language": "python",
   "name": "python3"
  },
  "language_info": {
   "codemirror_mode": {
    "name": "ipython",
    "version": 3
   },
   "file_extension": ".py",
   "mimetype": "text/x-python",
   "name": "python",
   "nbconvert_exporter": "python",
   "pygments_lexer": "ipython3",
   "version": "3.12.7"
  }
 },
 "nbformat": 4,
 "nbformat_minor": 2
}
